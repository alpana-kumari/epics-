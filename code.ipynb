{
 "cells": [
  {
   "cell_type": "code",
   "execution_count": 502,
   "metadata": {},
   "outputs": [],
   "source": [
    "import pandas as pd"
   ]
  },
  {
   "cell_type": "code",
   "execution_count": 503,
   "metadata": {},
   "outputs": [],
   "source": [
    "# Load the data from Excel file\n",
    "data = pd.read_excel(\"C://Users//Alpana//Desktop//epics//blood donation sample.xlsx\") "
   ]
  },
  {
   "cell_type": "code",
   "execution_count": 504,
   "metadata": {},
   "outputs": [
    {
     "name": "stdout",
     "output_type": "stream",
     "text": [
      "Missing values in each column:\n",
      "id                      0\n",
      "email                   0\n",
      "name                    0\n",
      "blood_group             0\n",
      "sex                     0\n",
      "age                     0\n",
      "weight                  0\n",
      "height                  0\n",
      "address                 0\n",
      "diabetes                0\n",
      "disease                56\n",
      "no_of_times_donated     0\n",
      "dtype: int64\n"
     ]
    }
   ],
   "source": [
    "# Check for missing values in the DataFrame\n",
    "missing_values = data.isna().sum()\n",
    "print(\"Missing values in each column:\")\n",
    "print(missing_values)\n"
   ]
  },
  {
   "cell_type": "code",
   "execution_count": 505,
   "metadata": {},
   "outputs": [
    {
     "data": {
      "text/html": [
       "<div>\n",
       "<style scoped>\n",
       "    .dataframe tbody tr th:only-of-type {\n",
       "        vertical-align: middle;\n",
       "    }\n",
       "\n",
       "    .dataframe tbody tr th {\n",
       "        vertical-align: top;\n",
       "    }\n",
       "\n",
       "    .dataframe thead th {\n",
       "        text-align: right;\n",
       "    }\n",
       "</style>\n",
       "<table border=\"1\" class=\"dataframe\">\n",
       "  <thead>\n",
       "    <tr style=\"text-align: right;\">\n",
       "      <th></th>\n",
       "      <th>id</th>\n",
       "      <th>email</th>\n",
       "      <th>name</th>\n",
       "      <th>blood_group</th>\n",
       "      <th>sex</th>\n",
       "      <th>age</th>\n",
       "      <th>weight</th>\n",
       "      <th>height</th>\n",
       "      <th>address</th>\n",
       "      <th>diabetes</th>\n",
       "      <th>disease</th>\n",
       "      <th>no_of_times_donated</th>\n",
       "    </tr>\n",
       "  </thead>\n",
       "  <tbody>\n",
       "    <tr>\n",
       "      <th>0</th>\n",
       "      <td>1</td>\n",
       "      <td>arjun.kumar@gmail.com</td>\n",
       "      <td>Arjun Kumar</td>\n",
       "      <td>O+</td>\n",
       "      <td>Male</td>\n",
       "      <td>25</td>\n",
       "      <td>70</td>\n",
       "      <td>175</td>\n",
       "      <td>New Delhi</td>\n",
       "      <td>No</td>\n",
       "      <td>Hypertension</td>\n",
       "      <td>2</td>\n",
       "    </tr>\n",
       "    <tr>\n",
       "      <th>1</th>\n",
       "      <td>2</td>\n",
       "      <td>sandeep.kaur@gmail.com</td>\n",
       "      <td>Sandeep Kaur</td>\n",
       "      <td>B-</td>\n",
       "      <td>Female</td>\n",
       "      <td>35</td>\n",
       "      <td>65</td>\n",
       "      <td>160</td>\n",
       "      <td>Amritsar</td>\n",
       "      <td>Yes</td>\n",
       "      <td>NaN</td>\n",
       "      <td>3</td>\n",
       "    </tr>\n",
       "    <tr>\n",
       "      <th>2</th>\n",
       "      <td>3</td>\n",
       "      <td>rajesh.singh@gmail.com</td>\n",
       "      <td>Rajesh Singh</td>\n",
       "      <td>O+</td>\n",
       "      <td>Male</td>\n",
       "      <td>45</td>\n",
       "      <td>80</td>\n",
       "      <td>180</td>\n",
       "      <td>Mumbai</td>\n",
       "      <td>No</td>\n",
       "      <td>Diabetes</td>\n",
       "      <td>1</td>\n",
       "    </tr>\n",
       "    <tr>\n",
       "      <th>3</th>\n",
       "      <td>4</td>\n",
       "      <td>meenakshi.sharma@gmail.com</td>\n",
       "      <td>Meenakshi Sharma</td>\n",
       "      <td>AB-</td>\n",
       "      <td>Female</td>\n",
       "      <td>30</td>\n",
       "      <td>60</td>\n",
       "      <td>155</td>\n",
       "      <td>Jaipur</td>\n",
       "      <td>Yes</td>\n",
       "      <td>NaN</td>\n",
       "      <td>2</td>\n",
       "    </tr>\n",
       "    <tr>\n",
       "      <th>4</th>\n",
       "      <td>5</td>\n",
       "      <td>vivek.patel@gmail.com</td>\n",
       "      <td>Vivek Patel</td>\n",
       "      <td>O-</td>\n",
       "      <td>Male</td>\n",
       "      <td>40</td>\n",
       "      <td>75</td>\n",
       "      <td>170</td>\n",
       "      <td>Ahmedabad</td>\n",
       "      <td>Yes</td>\n",
       "      <td>Hypertension</td>\n",
       "      <td>4</td>\n",
       "    </tr>\n",
       "  </tbody>\n",
       "</table>\n",
       "</div>"
      ],
      "text/plain": [
       "   id                       email              name blood_group     sex  age  \\\n",
       "0   1       arjun.kumar@gmail.com       Arjun Kumar          O+    Male   25   \n",
       "1   2      sandeep.kaur@gmail.com      Sandeep Kaur          B-  Female   35   \n",
       "2   3      rajesh.singh@gmail.com      Rajesh Singh          O+    Male   45   \n",
       "3   4  meenakshi.sharma@gmail.com  Meenakshi Sharma         AB-  Female   30   \n",
       "4   5       vivek.patel@gmail.com       Vivek Patel          O-    Male   40   \n",
       "\n",
       "   weight  height    address diabetes       disease  no_of_times_donated  \n",
       "0      70     175  New Delhi       No  Hypertension                    2  \n",
       "1      65     160   Amritsar      Yes           NaN                    3  \n",
       "2      80     180     Mumbai       No      Diabetes                    1  \n",
       "3      60     155     Jaipur      Yes           NaN                    2  \n",
       "4      75     170  Ahmedabad      Yes  Hypertension                    4  "
      ]
     },
     "execution_count": 505,
     "metadata": {},
     "output_type": "execute_result"
    }
   ],
   "source": [
    "data.head()"
   ]
  },
  {
   "cell_type": "code",
   "execution_count": 506,
   "metadata": {},
   "outputs": [],
   "source": [
    "# Dropping irrelevant columns \n",
    "data = data.drop(columns=[\"disease\", \"email\",\"sex\", \"weight\", \"height\", \"diabetes\"])"
   ]
  },
  {
   "cell_type": "code",
   "execution_count": 507,
   "metadata": {},
   "outputs": [
    {
     "data": {
      "text/html": [
       "<div>\n",
       "<style scoped>\n",
       "    .dataframe tbody tr th:only-of-type {\n",
       "        vertical-align: middle;\n",
       "    }\n",
       "\n",
       "    .dataframe tbody tr th {\n",
       "        vertical-align: top;\n",
       "    }\n",
       "\n",
       "    .dataframe thead th {\n",
       "        text-align: right;\n",
       "    }\n",
       "</style>\n",
       "<table border=\"1\" class=\"dataframe\">\n",
       "  <thead>\n",
       "    <tr style=\"text-align: right;\">\n",
       "      <th></th>\n",
       "      <th>id</th>\n",
       "      <th>name</th>\n",
       "      <th>blood_group</th>\n",
       "      <th>age</th>\n",
       "      <th>address</th>\n",
       "      <th>no_of_times_donated</th>\n",
       "    </tr>\n",
       "  </thead>\n",
       "  <tbody>\n",
       "    <tr>\n",
       "      <th>0</th>\n",
       "      <td>1</td>\n",
       "      <td>Arjun Kumar</td>\n",
       "      <td>O+</td>\n",
       "      <td>25</td>\n",
       "      <td>New Delhi</td>\n",
       "      <td>2</td>\n",
       "    </tr>\n",
       "    <tr>\n",
       "      <th>1</th>\n",
       "      <td>2</td>\n",
       "      <td>Sandeep Kaur</td>\n",
       "      <td>B-</td>\n",
       "      <td>35</td>\n",
       "      <td>Amritsar</td>\n",
       "      <td>3</td>\n",
       "    </tr>\n",
       "    <tr>\n",
       "      <th>2</th>\n",
       "      <td>3</td>\n",
       "      <td>Rajesh Singh</td>\n",
       "      <td>O+</td>\n",
       "      <td>45</td>\n",
       "      <td>Mumbai</td>\n",
       "      <td>1</td>\n",
       "    </tr>\n",
       "    <tr>\n",
       "      <th>3</th>\n",
       "      <td>4</td>\n",
       "      <td>Meenakshi Sharma</td>\n",
       "      <td>AB-</td>\n",
       "      <td>30</td>\n",
       "      <td>Jaipur</td>\n",
       "      <td>2</td>\n",
       "    </tr>\n",
       "    <tr>\n",
       "      <th>4</th>\n",
       "      <td>5</td>\n",
       "      <td>Vivek Patel</td>\n",
       "      <td>O-</td>\n",
       "      <td>40</td>\n",
       "      <td>Ahmedabad</td>\n",
       "      <td>4</td>\n",
       "    </tr>\n",
       "  </tbody>\n",
       "</table>\n",
       "</div>"
      ],
      "text/plain": [
       "   id              name blood_group  age    address  no_of_times_donated\n",
       "0   1       Arjun Kumar          O+   25  New Delhi                    2\n",
       "1   2      Sandeep Kaur          B-   35   Amritsar                    3\n",
       "2   3      Rajesh Singh          O+   45     Mumbai                    1\n",
       "3   4  Meenakshi Sharma         AB-   30     Jaipur                    2\n",
       "4   5       Vivek Patel          O-   40  Ahmedabad                    4"
      ]
     },
     "execution_count": 507,
     "metadata": {},
     "output_type": "execute_result"
    }
   ],
   "source": [
    "data.head()"
   ]
  },
  {
   "cell_type": "code",
   "execution_count": 508,
   "metadata": {},
   "outputs": [],
   "source": [
    "# Input from the user\n",
    "blood_group = input(\"Enter the blood group: \")"
   ]
  },
  {
   "cell_type": "code",
   "execution_count": 509,
   "metadata": {},
   "outputs": [],
   "source": [
    "address = input(\"Enter the address: \")"
   ]
  },
  {
   "cell_type": "code",
   "execution_count": 510,
   "metadata": {},
   "outputs": [],
   "source": [
    "# Filter the dataset based on user input\n",
    "filtered_data = data[(data['blood_group'] == blood_group) & (data['address'] == address)]\n"
   ]
  },
  {
   "cell_type": "code",
   "execution_count": 511,
   "metadata": {},
   "outputs": [],
   "source": [
    "# Find the person most likely to donate blood based on number of times donated\n",
    "likely_donor = filtered_data[filtered_data['no_of_times_donated'] == filtered_data['no_of_times_donated'].max()]"
   ]
  },
  {
   "cell_type": "code",
   "execution_count": 514,
   "metadata": {},
   "outputs": [
    {
     "name": "stdout",
     "output_type": "stream",
     "text": [
      "Likely donor(s):\n",
      "ID: 21 - Name: Sneha Patel - nearest address Jaipur\n",
      "ID: 109 - Name: Sonam Kumar - nearest address Jaipur\n"
     ]
    }
   ],
   "source": [
    "# Print the index and names of the likely donors\n",
    "print(\"Likely donor(s):\")\n",
    "for index, row in likely_donor.iterrows():\n",
    "    print(\"ID:\", row['id'], \"- Name:\", row['name'], \"- nearest address\", row['address'] )"
   ]
  },
  {
   "cell_type": "code",
   "execution_count": null,
   "metadata": {},
   "outputs": [],
   "source": []
  }
 ],
 "metadata": {
  "kernelspec": {
   "display_name": "Python 3",
   "language": "python",
   "name": "python3"
  },
  "language_info": {
   "codemirror_mode": {
    "name": "ipython",
    "version": 3
   },
   "file_extension": ".py",
   "mimetype": "text/x-python",
   "name": "python",
   "nbconvert_exporter": "python",
   "pygments_lexer": "ipython3",
   "version": "3.12.0"
  }
 },
 "nbformat": 4,
 "nbformat_minor": 2
}
